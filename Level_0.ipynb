{
  "nbformat": 4,
  "nbformat_minor": 0,
  "metadata": {
    "colab": {
      "provenance": [],
      "authorship_tag": "ABX9TyPNMLfPmTHSWC5uwkpJIMVb",
      "include_colab_link": true
    },
    "kernelspec": {
      "name": "python3",
      "display_name": "Python 3"
    },
    "language_info": {
      "name": "python"
    }
  },
  "cells": [
    {
      "cell_type": "markdown",
      "metadata": {
        "id": "view-in-github",
        "colab_type": "text"
      },
      "source": [
        "<a href=\"https://colab.research.google.com/github/JGH94/Level_0/blob/main/%08Level_0.ipynb\" target=\"_parent\"><img src=\"https://colab.research.google.com/assets/colab-badge.svg\" alt=\"Open In Colab\"/></a>"
      ]
    },
    {
      "cell_type": "code",
      "execution_count": 124,
      "metadata": {
        "colab": {
          "base_uri": "https://localhost:8080/"
        },
        "id": "FWtTCcGhEJJ8",
        "outputId": "4216d47b-307e-4188-bdf3-fd47d95e7323"
      },
      "outputs": [
        {
          "output_type": "execute_result",
          "data": {
            "text/plain": [
              "[1, 2, 3]"
            ]
          },
          "metadata": {},
          "execution_count": 124
        }
      ],
      "source": [
        "# 1. 배열조각하기\n",
        "# https://school.programmers.co.kr/learn/courses/30/lessons/181893\n",
        "\n",
        "def solution(arr, query):\n",
        "    for i in range(0, len(query)):\n",
        "      if i % 2 == 0:\n",
        "        # 홀수이면 뒷부분 제거\n",
        "        arr = arr[0:query[i]+1]\n",
        "      else:\n",
        "        # 짝수면 앞부분 제거\n",
        "        arr = arr[query[i]:]\n",
        "    return arr\n",
        "\n",
        "solution([0, 1, 2, 3, 4, 5], [4, 1, 2])"
      ]
    },
    {
      "cell_type": "code",
      "source": [
        "# 2. 다항식 더하기\n",
        "# https://school.programmers.co.kr/learn/courses/30/lessons/120863\n",
        "\n",
        "def solution(polynomial):\n",
        "    list_ = polynomial.split(' ')\n",
        "    Xnum_ = 0\n",
        "    num_ = 0\n",
        "    for i in list_:\n",
        "      if 'x' in i:\n",
        "        X = i.replace('x','')\n",
        "        if X == '':\n",
        "          X = 1\n",
        "        Xnum_ += int(X)\n",
        "      else:\n",
        "        if i != '+':\n",
        "          num_ += int(i)\n",
        "\n",
        "    if Xnum_ == 0:\n",
        "      return '{}'.format(str(num_))\n",
        "    elif num_ == 0:\n",
        "      if Xnum_ == 1:\n",
        "        return 'x'\n",
        "      return '{}x'.format(str(Xnum_))\n",
        "    else:\n",
        "      if Xnum_ == 1:\n",
        "        return 'x + {}'.format(str(num_))\n",
        "      return '{}x + {}'.format(str(Xnum_), str(num_))\n",
        "\n",
        "solution(\"x + 3\")"
      ],
      "metadata": {
        "colab": {
          "base_uri": "https://localhost:8080/",
          "height": 36
        },
        "id": "91_hynslNBV4",
        "outputId": "f39b57f0-4a53-436f-df6b-99a21f41ee9c"
      },
      "execution_count": 154,
      "outputs": [
        {
          "output_type": "execute_result",
          "data": {
            "text/plain": [
              "'x + 3'"
            ],
            "application/vnd.google.colaboratory.intrinsic+json": {
              "type": "string"
            }
          },
          "metadata": {},
          "execution_count": 154
        }
      ]
    }
  ]
}